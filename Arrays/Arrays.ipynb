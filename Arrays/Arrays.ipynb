{
  "nbformat": 4,
  "nbformat_minor": 0,
  "metadata": {
    "colab": {
      "provenance": [],
      "authorship_tag": "ABX9TyPkpOytJrUDeNiaoMpm/11Y",
      "include_colab_link": true
    },
    "kernelspec": {
      "name": "python3",
      "display_name": "Python 3"
    },
    "language_info": {
      "name": "python"
    }
  },
  "cells": [
    {
      "cell_type": "markdown",
      "metadata": {
        "id": "view-in-github",
        "colab_type": "text"
      },
      "source": [
        "<a href=\"https://colab.research.google.com/github/Priyo-prog/Data-Structure-and-Algorithms/blob/main/Arrays/Arrays.ipynb\" target=\"_parent\"><img src=\"https://colab.research.google.com/assets/colab-badge.svg\" alt=\"Open In Colab\"/></a>"
      ]
    },
    {
      "cell_type": "markdown",
      "source": [
        "# **Problem 1**\n",
        "\n",
        "Create an array. Setup a target value. If sum of any 2 values in the array is equal to the target value send their position."
      ],
      "metadata": {
        "id": "9WgQcH11uM_l"
      }
    },
    {
      "cell_type": "code",
      "source": [
        "def find_two_sum(lst, target):\n",
        "  length = len(lst) - 1\n",
        "  for i in range(0,length):\n",
        "    for j in lst:\n",
        "      #print(i,j)\n",
        "      if lst[i] + j == target:\n",
        "        return i,j    "
      ],
      "metadata": {
        "id": "9mSR90oMvSeY"
      },
      "execution_count": 36,
      "outputs": []
    },
    {
      "cell_type": "code",
      "source": [
        "lst = [1,3,5,8,9]\n",
        "target = 17\n",
        "\n",
        "find_two_sum(lst, target)"
      ],
      "metadata": {
        "colab": {
          "base_uri": "https://localhost:8080/"
        },
        "id": "sulHbr4_v3CE",
        "outputId": "e2e6f631-4573-4ba2-e89f-9246b0effb01"
      },
      "execution_count": 37,
      "outputs": [
        {
          "output_type": "execute_result",
          "data": {
            "text/plain": [
              "(3, 9)"
            ]
          },
          "metadata": {},
          "execution_count": 37
        }
      ]
    },
    {
      "cell_type": "code",
      "source": [],
      "metadata": {
        "id": "46WFyyAXwQ3g"
      },
      "execution_count": null,
      "outputs": []
    }
  ]
}