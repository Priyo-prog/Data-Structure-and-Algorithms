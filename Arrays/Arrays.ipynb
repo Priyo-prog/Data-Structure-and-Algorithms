{
  "nbformat": 4,
  "nbformat_minor": 0,
  "metadata": {
    "colab": {
      "provenance": [],
      "authorship_tag": "ABX9TyPYqxiUgA2QoBwTMSklnK2l",
      "include_colab_link": true
    },
    "kernelspec": {
      "name": "python3",
      "display_name": "Python 3"
    },
    "language_info": {
      "name": "python"
    }
  },
  "cells": [
    {
      "cell_type": "markdown",
      "metadata": {
        "id": "view-in-github",
        "colab_type": "text"
      },
      "source": [
        "<a href=\"https://colab.research.google.com/github/Priyo-prog/Data-Structure-and-Algorithms/blob/main/Arrays/Arrays.ipynb\" target=\"_parent\"><img src=\"https://colab.research.google.com/assets/colab-badge.svg\" alt=\"Open In Colab\"/></a>"
      ]
    },
    {
      "cell_type": "markdown",
      "source": [
        "# **Problem 1**\n",
        "\n",
        "Create an array. Setup a target value. If sum of any 2 values in the array is equal to the target value send their position."
      ],
      "metadata": {
        "id": "9WgQcH11uM_l"
      }
    },
    {
      "cell_type": "code",
      "source": [
        "def find_two_sum(lst, target):\n",
        "  length = len(lst) - 1\n",
        "  for i in range(0,length):\n",
        "    for j in range(0, len(lst)):\n",
        "      #print(i,j)      \n",
        "      if lst[i] + lst[j] == target:\n",
        "        return i,j   "
      ],
      "metadata": {
        "id": "9mSR90oMvSeY"
      },
      "execution_count": null,
      "outputs": []
    },
    {
      "cell_type": "code",
      "source": [
        "lst = [1,3,5,8,9]\n",
        "target = 17\n",
        "\n",
        "find_two_sum(lst, target)"
      ],
      "metadata": {
        "colab": {
          "base_uri": "https://localhost:8080/"
        },
        "id": "sulHbr4_v3CE",
        "outputId": "71817813-8524-4e8e-fd83-c3eff6082956"
      },
      "execution_count": null,
      "outputs": [
        {
          "output_type": "execute_result",
          "data": {
            "text/plain": [
              "(3, 4)"
            ]
          },
          "metadata": {},
          "execution_count": 45
        }
      ]
    },
    {
      "cell_type": "markdown",
      "source": [
        "# **Problem 2**\n",
        "\n",
        "You are given an array of positive integers where each integer represents the height of a vertical line on a chart. Find two lines which together with the x-axis forms a container that would hold the graetest amount of water. Return the area of water it would hold."
      ],
      "metadata": {
        "id": "46WFyyAXwQ3g"
      }
    },
    {
      "cell_type": "code",
      "source": [],
      "metadata": {
        "id": "rSTR8ixP4vzW"
      },
      "execution_count": null,
      "outputs": []
    }
  ]
}